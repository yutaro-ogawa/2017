{
 "cells": [
  {
   "cell_type": "code",
   "execution_count": 3,
   "metadata": {},
   "outputs": [
    {
     "name": "stdout",
     "output_type": "stream",
     "text": [
      "SGDでの係数\n",
      "[ 22.481971]\n",
      "[-1.03086319  1.05016453  0.02945653  0.60062837 -1.87050989  2.60841289\n",
      " -0.08924276 -2.91167283  2.11640929 -1.85397018 -2.27067559  0.73908177\n",
      " -3.52187598]\n",
      "\n",
      "Lassoでの係数\n",
      "22.5754303405\n",
      "[-0.          0.         -0.          0.         -0.          2.51692604\n",
      " -0.         -0.         -0.         -0.1811126  -1.77331473  0.05691698\n",
      " -3.57188137]\n",
      "\n",
      "「SGDの平均2乗誤差」と「Lassoの平均2乗誤差」\n",
      "33.5686503139\n",
      "40.348597575\n"
     ]
    }
   ],
   "source": [
    "# 1：ライブラリのインポート--------------------------------\n",
    "import numpy as np #numpyという行列などを扱うライブラリを利用\n",
    "import pandas as pd #pandasというデータ分析ライブラリを利用\n",
    "import matplotlib.pyplot as plt #プロット用のライブラリを利用\n",
    "from sklearn import cross_validation, preprocessing, linear_model #機械学習用のライブラリを利用\n",
    "import sklearn\n",
    "sklearn.__version__\n",
    "\n",
    "#解説 2：Housingのデータセットを読み込む--------------------------------\n",
    "df=pd.read_csv('https://archive.ics.uci.edu/ml/machine-learning-databases/housing/housing.data', header=None, sep='\\s+')\n",
    "df.columns=['CRIM','ZN', 'INDUS', 'CHAS', 'NOX', 'RM', 'AGE', 'DIS', 'RAD', 'TAX', 'PTRATIO', 'B', 'LSTAT', 'MEDV']\n",
    "X_rm=df[['RM']].values\n",
    "X=df.iloc[:, 0:13]\n",
    "#X=df[['AGE']].values\n",
    "Y=df['MEDV'].values\n",
    "\n",
    "#解説 3：データの整形-------------------------------------------------------\n",
    "sc=preprocessing.StandardScaler()\n",
    "sc.fit(X)\n",
    "X=sc.transform(X)\n",
    "\n",
    "#解説 4：学習データとテストデータに分割する-------------------------------\n",
    "X_train, X_test, Y_train, Y_test = cross_validation.train_test_split(X, Y, test_size=0.2, random_state=0)\n",
    "\n",
    "#解説 5：SGD Regressorを適用する-------------------------------------------\n",
    "clf = linear_model.SGDRegressor(max_iter=1000)\n",
    "clf.fit(X_train, Y_train)\n",
    "\n",
    "print(\"SGDでの係数\")\n",
    "print(clf.intercept_) \n",
    "print(clf.coef_) \n",
    "\n",
    "#解説6：Lasso Regressorを適用する-------------------------------------------\n",
    "clf_lasso= linear_model.Lasso(max_iter=1000)\n",
    "clf_lasso.fit(X_train, Y_train)\n",
    "\n",
    "print(\"\\nLassoでの係数\")\n",
    "print(clf_lasso.intercept_) \n",
    "print(clf_lasso.coef_) \n",
    "\n",
    "#解7：テストデータでの誤差を比較する-------------------------------------------\n",
    "Y_pred=clf.predict(X_test)\n",
    "Y_lasso_pred=clf_lasso.predict(X_test)\n",
    "print(\"\\n「SGDの平均2乗誤差」と「Lassoの平均2乗誤差」\")\n",
    "RMS=np.mean((Y_pred - Y_test) ** 2)\n",
    "RMS_lasso=np.mean((Y_lasso_pred - Y_test) ** 2)\n",
    "print(RMS)\n",
    "print(RMS_lasso)"
   ]
  }
 ],
 "metadata": {
  "kernelspec": {
   "display_name": "Python 3",
   "language": "python",
   "name": "python3"
  },
  "language_info": {
   "codemirror_mode": {
    "name": "ipython",
    "version": 3
   },
   "file_extension": ".py",
   "mimetype": "text/x-python",
   "name": "python",
   "nbconvert_exporter": "python",
   "pygments_lexer": "ipython3",
   "version": "3.5.2"
  }
 },
 "nbformat": 4,
 "nbformat_minor": 2
}
